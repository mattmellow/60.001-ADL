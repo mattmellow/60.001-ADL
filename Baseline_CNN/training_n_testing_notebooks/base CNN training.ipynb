{
 "cells": [
  {
   "cell_type": "code",
   "execution_count": null,
   "metadata": {
    "_cell_guid": "b1076dfc-b9ad-4769-8c92-a6c4dae69d19",
    "_uuid": "8f2839f25d086af736a60e9eeb907d3b93b6e0e5",
    "execution": {
     "iopub.execute_input": "2025-04-20T06:44:03.505017Z",
     "iopub.status.busy": "2025-04-20T06:44:03.504732Z",
     "iopub.status.idle": "2025-04-20T06:44:10.186176Z",
     "shell.execute_reply": "2025-04-20T06:44:10.185499Z",
     "shell.execute_reply.started": "2025-04-20T06:44:03.504987Z"
    },
    "trusted": true
   },
   "outputs": [],
   "source": [
    "import os\n",
    "import torch\n",
    "import torch.nn as nn\n",
    "import torch.optim as optim\n",
    "from torch.utils.data import DataLoader\n",
    "from torchvision import datasets, transforms\n",
    "import torch.nn.functional as F"
   ]
  },
  {
   "cell_type": "code",
   "execution_count": null,
   "metadata": {
    "execution": {
     "iopub.execute_input": "2025-04-20T06:44:10.194861Z",
     "iopub.status.busy": "2025-04-20T06:44:10.194578Z",
     "iopub.status.idle": "2025-04-20T06:44:10.584172Z",
     "shell.execute_reply": "2025-04-20T06:44:10.583498Z",
     "shell.execute_reply.started": "2025-04-20T06:44:10.194831Z"
    },
    "trusted": true
   },
   "outputs": [],
   "source": [
    "device = torch.device(\"cuda\" if torch.cuda.is_available() else \"cpu\")\n",
    "# Define dataset paths\n",
    "dataset_path = '../../'\n",
    "train_path = os.path.join(dataset_path, \"Dataset/Train\")\n",
    "val_path = os.path.join(dataset_path, \"Dataset/Validation\")\n",
    "test_path = os.path.join(dataset_path, \"Dataset/Test\")\n",
    "\n",
    "# Set a seed for reproducibility\n",
    "seed = 42\n",
    "torch.manual_seed(seed)"
   ]
  },
  {
   "cell_type": "code",
   "execution_count": null,
   "metadata": {
    "execution": {
     "iopub.execute_input": "2025-04-20T06:44:21.270196Z",
     "iopub.status.busy": "2025-04-20T06:44:21.269990Z",
     "iopub.status.idle": "2025-04-20T06:44:21.274200Z",
     "shell.execute_reply": "2025-04-20T06:44:21.273495Z",
     "shell.execute_reply.started": "2025-04-20T06:44:21.270178Z"
    },
    "trusted": true
   },
   "outputs": [],
   "source": [
    "def Transform_Image(image):\n",
    "    image_tensor = transforms.ToTensor()(image).unsqueeze(0)  # Convert to tensor and add batch dimension\n",
    "    image_tensor.requires_grad = True\n",
    "    return image_tensor.squeeze(0)\n",
    "\n",
    "class Transform_Class:\n",
    "    def __call__(self, image):\n",
    "        return Transform_Image(image)"
   ]
  },
  {
   "cell_type": "code",
   "execution_count": null,
   "metadata": {
    "execution": {
     "iopub.execute_input": "2025-04-20T06:44:21.276474Z",
     "iopub.status.busy": "2025-04-20T06:44:21.276223Z",
     "iopub.status.idle": "2025-04-20T06:44:21.290507Z",
     "shell.execute_reply": "2025-04-20T06:44:21.289695Z",
     "shell.execute_reply.started": "2025-04-20T06:44:21.276455Z"
    },
    "trusted": true
   },
   "outputs": [],
   "source": [
    "# Define transforms\n",
    "transformation_for_train = transforms.Compose([\n",
    "    transforms.Resize((224, 224)),\n",
    "    Transform_Class(),\n",
    "    transforms.Normalize(mean=[0.485, 0.456, 0.406], std=[0.229, 0.224, 0.225])  # Directly normalize the tensor\n",
    "])\n",
    "\n",
    "transformation_for_valntest = transforms.Compose([\n",
    "    transforms.Resize((224, 224)),\n",
    "    Transform_Class(),\n",
    "    transforms.Normalize(mean=[0.485, 0.456, 0.406], std=[0.229, 0.224, 0.225])  # Directly normalize the tensor\n",
    "])"
   ]
  },
  {
   "cell_type": "code",
   "execution_count": null,
   "metadata": {
    "execution": {
     "iopub.execute_input": "2025-04-20T06:44:21.291739Z",
     "iopub.status.busy": "2025-04-20T06:44:21.291552Z",
     "iopub.status.idle": "2025-04-20T06:49:11.106233Z",
     "shell.execute_reply": "2025-04-20T06:49:11.105468Z",
     "shell.execute_reply.started": "2025-04-20T06:44:21.291723Z"
    },
    "trusted": true
   },
   "outputs": [],
   "source": [
    "# Load datasets\n",
    "print(train_path)\n",
    "train_dataset = datasets.ImageFolder(root=train_path, transform=transformation_for_train)\n",
    "val_dataset = datasets.ImageFolder(root=val_path, transform=transformation_for_valntest)\n",
    "test_dataset = datasets.ImageFolder(root=test_path, transform=transformation_for_valntest)\n",
    "print(train_dataset)\n",
    "print(val_dataset)\n",
    "print(test_dataset)\n",
    "\n",
    "# DataLoader with batch size\n",
    "batch_size = 32\n",
    "train_loader = DataLoader(train_dataset, batch_size=batch_size, shuffle=True)\n",
    "val_loader = DataLoader(val_dataset, batch_size=batch_size, shuffle=False)\n",
    "test_loader = DataLoader(test_dataset, batch_size=batch_size, shuffle=False)"
   ]
  },
  {
   "cell_type": "code",
   "execution_count": null,
   "metadata": {
    "execution": {
     "iopub.execute_input": "2025-04-20T06:49:11.107294Z",
     "iopub.status.busy": "2025-04-20T06:49:11.106987Z",
     "iopub.status.idle": "2025-04-20T06:49:11.113070Z",
     "shell.execute_reply": "2025-04-20T06:49:11.112426Z",
     "shell.execute_reply.started": "2025-04-20T06:49:11.107270Z"
    },
    "trusted": true
   },
   "outputs": [],
   "source": [
    "class MNIST_CNN(nn.Module):\n",
    "    def __init__(self):\n",
    "        super(MNIST_CNN, self).__init__()\n",
    "        # First convolutional layer\n",
    "        self.conv1 = nn.Conv2d(3, 32, kernel_size=3, stride=1, padding=1)\n",
    "        # Max pool after conv1\n",
    "        self.pool1 = nn.MaxPool2d(2, 2)  # 2x2 max pooling\n",
    "        \n",
    "        # Second convolutional layer\n",
    "        self.conv2 = nn.Conv2d(32, 64, kernel_size=3, stride=1, padding=1)\n",
    "        # Max pool after conv2\n",
    "        self.pool2 = nn.MaxPool2d(2, 2)  # 2x2 max pooling\n",
    "\n",
    "        # Fully connected layers\n",
    "        self.fc1 = nn.Linear(64 * 56 * 56, 128)  # Adjusted based on the size after pooling\n",
    "        self.fc2 = nn.Linear(128, 1)\n",
    "\n",
    "    def forward(self, x):\n",
    "        # Pass input through first convolutional layer\n",
    "        x = self.conv1(x)\n",
    "        x = F.relu(x)\n",
    "        x = self.pool1(x)  # Apply max pooling after conv1\n",
    "        \n",
    "        # Pass output of first conv layer through second convolutional layer\n",
    "        x = self.conv2(x)\n",
    "        x = F.relu(x)\n",
    "        x = self.pool2(x)  # Apply max pooling after conv2\n",
    "\n",
    "        # Flatten output of second conv layer\n",
    "        x = x.view(x.size(0), -1)  # Flatten the tensor\n",
    "        # Pass flattened output through first fully connected layer\n",
    "        x = self.fc1(x)\n",
    "        x = F.relu(x)\n",
    "        # Pass output of first fully connected layer through second fully connected layer\n",
    "        x = self.fc2(x)\n",
    "        return x\n"
   ]
  },
  {
   "cell_type": "code",
   "execution_count": null,
   "metadata": {
    "execution": {
     "iopub.execute_input": "2025-04-20T06:49:11.114096Z",
     "iopub.status.busy": "2025-04-20T06:49:11.113857Z",
     "iopub.status.idle": "2025-04-20T06:49:11.135204Z",
     "shell.execute_reply": "2025-04-20T06:49:11.134598Z",
     "shell.execute_reply.started": "2025-04-20T06:49:11.114077Z"
    },
    "trusted": true
   },
   "outputs": [],
   "source": [
    "# Function to calculate recall and accuracy\n",
    "def compute_metrics(outputs, labels):\n",
    "    # Convert the logits to binary predictions\n",
    "    predicted = (torch.sigmoid(outputs) > 0.5).float()  # Predictions as 0 or 1\n",
    "    \n",
    "    # True positives, false positives, false negatives, true negatives\n",
    "    tp = torch.sum((predicted == 1) & (labels == 1)).item()  # True positives\n",
    "    fp = torch.sum((predicted == 1) & (labels == 0)).item()  # False positives\n",
    "    fn = torch.sum((predicted == 0) & (labels == 1)).item()  # False negatives\n",
    "    tn = torch.sum((predicted == 0) & (labels == 0)).item()  # True negatives\n",
    "    \n",
    "    # Accuracy\n",
    "    accuracy = (tp + tn) / (tp + tn + fp + fn)\n",
    "    \n",
    "    # Precision\n",
    "    precision = tp / (tp + fp) if (tp + fp) > 0 else 0.0  # Avoid division by zero\n",
    "    \n",
    "    # Recall\n",
    "    recall = tp / (tp + fn) if (tp + fn) > 0 else 0.0  # Avoid division by zero\n",
    "    \n",
    "    # F1-Score\n",
    "    f1 = 2 * (precision * recall) / (precision + recall) if (precision + recall) > 0 else 0.0  # Avoid division by zero\n",
    "    \n",
    "    return accuracy, recall, precision, f1"
   ]
  },
  {
   "cell_type": "code",
   "execution_count": null,
   "metadata": {
    "execution": {
     "iopub.execute_input": "2025-04-20T06:49:11.136364Z",
     "iopub.status.busy": "2025-04-20T06:49:11.136091Z",
     "iopub.status.idle": "2025-04-20T06:49:11.153170Z",
     "shell.execute_reply": "2025-04-20T06:49:11.152389Z",
     "shell.execute_reply.started": "2025-04-20T06:49:11.136337Z"
    },
    "trusted": true
   },
   "outputs": [],
   "source": [
    "def train(model, train_loader, test_loader, epochs=10, lr=0.001):\n",
    "    # Use Adam optimizer to update model weights\n",
    "    optimizer = optim.Adam(model.parameters(), lr=lr)\n",
    "    # Use BCEWithLogitsLoss for binary classification\n",
    "    criterion = nn.BCEWithLogitsLoss()\n",
    "    \n",
    "    # Performance curves data\n",
    "    train_losses = []\n",
    "    train_accuracies = []\n",
    "    test_losses = []\n",
    "    test_accuracies = []\n",
    "    \n",
    "    for epoch in range(epochs):\n",
    "        # Set model to training mode\n",
    "        model.train()\n",
    "        epoch_loss = 0.0\n",
    "        correct = 0\n",
    "        total = 0\n",
    "        \n",
    "        # Iterate over training data\n",
    "        for inputs, labels in train_loader:\n",
    "            inputs, labels = inputs.to(device), labels.float().to(device)\n",
    "            optimizer.zero_grad()\n",
    "            outputs = model(inputs).squeeze()  # Get model output\n",
    "            \n",
    "            # Compute loss and backpropagate\n",
    "            loss = criterion(outputs, labels)\n",
    "            loss.backward()\n",
    "            optimizer.step()\n",
    "            \n",
    "            epoch_loss += loss.item()\n",
    "            \n",
    "            # Compute metrics\n",
    "            predicted = (torch.sigmoid(outputs) > 0.5).float()  # Binary prediction\n",
    "            accuracy = (predicted == labels).sum().item()\n",
    "            correct += accuracy\n",
    "            total += labels.size(0)\n",
    "        \n",
    "        epoch_loss /= len(train_loader)\n",
    "        epoch_acc = correct / total\n",
    "        train_losses.append(epoch_loss)\n",
    "        train_accuracies.append(epoch_acc)\n",
    "        print(f'--- Epoch {epoch+1}/{epochs}: Train loss: {epoch_loss:.4f}, Train accuracy: {epoch_acc:.4f}')\n",
    "\n",
    "        # Save model after each epoch\n",
    "        model_filename = f\"../models/baseCNN_epoch_{epoch+1}.pth\"\n",
    "        torch.save(model.state_dict(), model_filename)\n",
    "        print(f\"Model saved as {model_filename}\")\n",
    "        \n",
    "        # Validation phase\n",
    "        model.eval()\n",
    "        correct = 0\n",
    "        total = 0\n",
    "        running_loss = 0.0\n",
    "        true_positive = 0\n",
    "        false_positive = 0\n",
    "        false_negative = 0\n",
    "        true_negative = 0\n",
    "        \n",
    "        with torch.no_grad():\n",
    "            for inputs, labels in test_loader:\n",
    "                inputs, labels = inputs.to(device), labels.float().to(device)\n",
    "                outputs = model(inputs).squeeze()\n",
    "                labels = labels.view(-1)  # Ensure labels have correct shape\n",
    "                \n",
    "                loss = criterion(outputs, labels)\n",
    "                running_loss += loss.item()\n",
    "                \n",
    "                predicted = (torch.sigmoid(outputs) > 0.5).float()\n",
    "                total += labels.size(0)\n",
    "                \n",
    "                true_positive += ((predicted == 1) & (labels == 1)).sum().item()\n",
    "                false_positive += ((predicted == 1) & (labels == 0)).sum().item()\n",
    "                false_negative += ((predicted == 0) & (labels == 1)).sum().item()\n",
    "                true_negative += ((predicted == 0) & (labels == 0)).sum().item()\n",
    "        \n",
    "        correct = true_positive + true_negative\n",
    "        avg_loss = running_loss / len(test_loader)\n",
    "        avg_accuracy = correct / total\n",
    "        avg_recall = true_positive / (true_positive + false_negative) if (true_positive + false_negative) > 0 else 0\n",
    "        avg_precision = true_positive / (true_positive + false_positive) if (true_positive + false_positive) > 0 else 0\n",
    "        avg_f1 = 2 * (avg_precision * avg_recall) / (avg_precision + avg_recall) if (avg_precision + avg_recall) > 0 else 0\n",
    "        \n",
    "        print(f'--- Epoch {epoch+1}/{epochs}: Test loss: {avg_loss:.4f}, Test accuracy: {avg_accuracy:.4f}')\n",
    "        print(f'--- Test Precision: {avg_precision:.4f}, Test Recall: {avg_recall:.4f}, Test F1: {avg_f1:.4f}')\n",
    "    \n",
    "    return train_losses, train_accuracies, test_losses, test_accuracies\n"
   ]
  },
  {
   "cell_type": "code",
   "execution_count": null,
   "metadata": {
    "execution": {
     "execution_failed": "2025-04-20T07:07:48.809Z",
     "iopub.execute_input": "2025-04-20T06:49:11.154136Z",
     "iopub.status.busy": "2025-04-20T06:49:11.153881Z"
    },
    "trusted": true
   },
   "outputs": [],
   "source": [
    "model = MNIST_CNN()\n",
    "model = model.to(device)\n",
    "train_losses, train_accuracies, test_losses, test_accuracies = train(model,train_loader,test_loader,epochs = 15,lr = 1e-3)\n",
    "print(train_losses, train_accuracies, test_losses, test_accuracies)"
   ]
  }
 ],
 "metadata": {
  "kaggle": {
   "accelerator": "gpu",
   "dataSources": [
    {
     "datasetId": 1909705,
     "sourceId": 3134515,
     "sourceType": "datasetVersion"
    },
    {
     "isSourceIdPinned": true,
     "modelId": 291335,
     "modelInstanceId": 270348,
     "sourceId": 320548,
     "sourceType": "modelInstanceVersion"
    },
    {
     "isSourceIdPinned": true,
     "modelId": 296634,
     "modelInstanceId": 275741,
     "sourceId": 328654,
     "sourceType": "modelInstanceVersion"
    }
   ],
   "dockerImageVersionId": 30918,
   "isGpuEnabled": true,
   "isInternetEnabled": true,
   "language": "python",
   "sourceType": "notebook"
  },
  "kernelspec": {
   "display_name": "Python 3",
   "language": "python",
   "name": "python3"
  },
  "language_info": {
   "codemirror_mode": {
    "name": "ipython",
    "version": 3
   },
   "file_extension": ".py",
   "mimetype": "text/x-python",
   "name": "python",
   "nbconvert_exporter": "python",
   "pygments_lexer": "ipython3",
   "version": "3.13.0"
  }
 },
 "nbformat": 4,
 "nbformat_minor": 4
}
